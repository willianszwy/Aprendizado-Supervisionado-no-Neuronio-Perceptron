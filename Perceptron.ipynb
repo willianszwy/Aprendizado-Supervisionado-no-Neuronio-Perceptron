{
  "nbformat": 4,
  "nbformat_minor": 0,
  "metadata": {
    "colab": {
      "name": "Perceptron.ipynb",
      "provenance": [],
      "collapsed_sections": []
    },
    "kernelspec": {
      "name": "python3",
      "display_name": "Python 3"
    },
    "language_info": {
      "name": "python"
    }
  },
  "cells": [
    {
      "cell_type": "markdown",
      "metadata": {
        "id": "view-in-github"
      },
      "source": [
        "<a href=\"https://colab.research.google.com/github/willianszwy/Aprendizado-Supervisionado-no-Neuronio-Perceptron/blob/main/Perceptron.ipynb\" target=\"_parent\"><img src=\"https://colab.research.google.com/assets/colab-badge.svg\" alt=\"Open In Colab\"/></a>"
      ]
    },
    {
      "cell_type": "code",
      "metadata": {
        "id": "tkYTvr-jgfAq"
      },
      "source": [
        "import numpy as np\n",
        "import random"
      ],
      "execution_count": 3,
      "outputs": []
    },
    {
      "cell_type": "markdown",
      "metadata": {
        "id": "FETr3zxsTpMn"
      },
      "source": [
        "# Parte I - Resolvendo um problema linearmente separável"
      ]
    },
    {
      "cell_type": "code",
      "metadata": {
        "id": "uE5k2uFlToUO"
      },
      "source": [
        "random.seed(323452345)"
      ],
      "execution_count": null,
      "outputs": []
    },
    {
      "cell_type": "markdown",
      "metadata": {
        "id": "E7Srwi3ffwWl"
      },
      "source": [
        "Carregando os exemplos a partir de um repositório do github separado"
      ]
    },
    {
      "cell_type": "code",
      "metadata": {
        "colab": {
          "base_uri": "https://localhost:8080/"
        },
        "id": "I2GzghP2iWLe",
        "outputId": "b1849925-d719-4c1d-ae06-e11fa8cb6ffc"
      },
      "source": [
        "!git clone https://github.com/jesusdourado/rna-atividade2.1-data.git"
      ],
      "execution_count": 1,
      "outputs": [
        {
          "output_type": "stream",
          "name": "stdout",
          "text": [
            "Cloning into 'rna-atividade2.1-data'...\n",
            "remote: Enumerating objects: 12, done.\u001b[K\n",
            "remote: Counting objects: 100% (12/12), done.\u001b[K\n",
            "remote: Compressing objects: 100% (10/10), done.\u001b[K\n",
            "remote: Total 12 (delta 0), reused 9 (delta 0), pack-reused 0\u001b[K\n",
            "Unpacking objects: 100% (12/12), done.\n"
          ]
        }
      ]
    },
    {
      "cell_type": "code",
      "metadata": {
        "id": "hlw8MsxShRyB"
      },
      "source": [
        "\n",
        "exemplos = np.fromfile('rna-atividade2.1-data/data/dataAll.txt').reshape(-1,3)\n"
      ],
      "execution_count": 4,
      "outputs": []
    },
    {
      "cell_type": "markdown",
      "metadata": {
        "id": "bVSQMCJgfb-b"
      },
      "source": [
        "## Implementando o neurônio Perceptron de Rosenblatt"
      ]
    },
    {
      "cell_type": "code",
      "metadata": {
        "id": "zRXDh9KRYGrJ"
      },
      "source": [
        "class Perceptron:\n",
        "\n",
        "    def __init__(self, tamanho, bias = 0, taxa_aprendizado= 0.1) -> None:\n",
        "        self.bias = bias\n",
        "        self.taxa_aprendizado = taxa_aprendizado\n",
        "        self.pesos = np.zeros(tamanho + 1)\n",
        "        self.pesos[0] = random.uniform(-0.5,0.5)\n",
        "        self.pesos[1] = random.uniform(-0.5,0.5)\n",
        "        self.pesos[2] = random.uniform(-0.5,0.5)\n",
        "        self.entradas = np.empty(tamanho + 1)\n",
        "        self.entradas[0] = self.bias\n",
        "        self.erro = 0\n",
        "        self.atualiza_pesos_contador = 0 \n",
        "\n",
        "\n",
        "    def treinar(self, d):\n",
        "        epoca = 0\n",
        "        continua = True\n",
        "        while continua:\n",
        "            epoca += 1\n",
        "            print(\"Época: \", epoca)\n",
        "            contem_erro = False\n",
        "            qtd_ajustes_pesos_epoca = 0\n",
        "\n",
        "            for i in range(d.shape[0]):\n",
        "\n",
        "                self.entradas[1] = d[i][0]\n",
        "                self.entradas[2] = d[i][1]\n",
        "\n",
        "                y = self.predicao()\n",
        "                self.calcula_erro(y, d[i][2])\n",
        "\n",
        "                if self.erro != 0:\n",
        "                    self.atualiza_pesos()\n",
        "                    qtd_ajustes_pesos_epoca += 1\n",
        "                    contem_erro = True      \n",
        "\n",
        "            print(\"Total ajustes de pesos da época: \", qtd_ajustes_pesos)\n",
        "\n",
        "            if not contem_erro:\n",
        "                continua = False\n",
        "        \n",
        "        print(\"Número total de ajustes dos pesos: \", self.atualiza_pesos_contador)\n",
        "        print(\"Número de Épocas: \", epoca)\n",
        "\n",
        "    def funcao_de_ativacao(self, x):\n",
        "        return 1 if x >= 0 else 0\n",
        "\n",
        "    def predicao(self):\n",
        "        y = self.pesos.T.dot(self.entradas)\n",
        "        return self.funcao_de_ativacao(y)\n",
        "\n",
        "    def calcula_erro(self,y, yd):\n",
        "        self.erro = yd - y\n",
        "\n",
        "    def delta(self):\n",
        "        return self.taxa_aprendizado * self.erro * self.entradas\n",
        "\n",
        "    def atualiza_pesos(self):\n",
        "        \n",
        "            self.pesos =  self.pesos + self.delta()\n",
        "            self.atualiza_pesos_contador += 1\n",
        "            print(\"pesos atualizados: \",self.pesos)"
      ],
      "execution_count": 5,
      "outputs": []
    },
    {
      "cell_type": "code",
      "metadata": {
        "colab": {
          "base_uri": "https://localhost:8080/",
          "height": 725
        },
        "id": "zJlPKLOkMUy7",
        "outputId": "8e49b909-826f-4cbe-afac-e1f259d54d74"
      },
      "source": [
        "neuronio = Perceptron(2)\n",
        "neuronio.treinar(exemplos)"
      ],
      "execution_count": 6,
      "outputs": [
        {
          "output_type": "stream",
          "name": "stdout",
          "text": [
            "Época:  1\n",
            "pesos atualizados:  [  0.14081284  36.08338618 -24.2618309 ]\n",
            "pesos atualizados:  [   0.14081284  -17.57566382 -100.7575809 ]\n",
            "pesos atualizados:  [  0.14081284  55.22035618 -64.9280209 ]\n",
            "pesos atualizados:  [  0.14081284 137.81905618  14.9278091 ]\n",
            "pesos atualizados:  [ 1.40812843e-01  1.43664816e+02 -6.33667809e+01]\n",
            "pesos atualizados:  [ 1.40812843e-01  1.03655906e+02 -1.41259471e+02]\n",
            "pesos atualizados:  [ 1.40812843e-01  1.57325716e+02 -9.21672009e+01]\n",
            "pesos atualizados:  [ 1.40812843e-01  1.04365656e+02 -1.49036661e+02]\n",
            "pesos atualizados:  [ 1.40812843e-01  1.63925176e+02 -9.89143309e+01]\n",
            "pesos atualizados:  [ 1.40812843e-01  1.18400546e+02 -1.64550261e+02]\n",
            "pesos atualizados:  [ 1.40812843e-01  2.09116406e+02 -8.98369409e+01]\n",
            "pesos atualizados:  [ 1.40812843e-01  1.51335416e+02 -1.50145091e+02]\n",
            "pesos atualizados:  [ 1.40812843e-01  1.03068856e+02 -1.98614811e+02]\n",
            "pesos atualizados:  [ 1.40812843e-01  1.73516206e+02 -1.56498541e+02]\n",
            "pesos atualizados:  [ 1.40812843e-01  1.26674206e+02 -2.07908411e+02]\n",
            "pesos atualizados:  [ 1.40812843e-01  1.96537836e+02 -1.43689471e+02]\n",
            "pesos atualizados:  [ 1.40812843e-01  1.40702106e+02 -1.99867001e+02]\n",
            "pesos atualizados:  [ 1.40812843e-01  2.17689576e+02 -1.35017671e+02]\n",
            "pesos atualizados:  [ 1.40812843e-01  1.81419536e+02 -1.78245711e+02]\n",
            "pesos atualizados:  [ 1.40812843e-01  1.63180396e+02 -1.96579351e+02]\n",
            "pesos atualizados:  [ 1.40812843e-01  2.38602836e+02 -1.30524241e+02]\n",
            "pesos atualizados:  [ 1.40812843e-01  1.74243706e+02 -2.12946681e+02]\n",
            "pesos atualizados:  [ 1.40812843e-01  2.65551916e+02 -1.29675911e+02]\n",
            "pesos atualizados:  [ 1.40812843e-01  2.18507086e+02 -2.17579851e+02]\n"
          ]
        },
        {
          "output_type": "error",
          "ename": "NameError",
          "evalue": "ignored",
          "traceback": [
            "\u001b[0;31m---------------------------------------------------------------------------\u001b[0m",
            "\u001b[0;31mNameError\u001b[0m                                 Traceback (most recent call last)",
            "\u001b[0;32m<ipython-input-6-aaedf6b63497>\u001b[0m in \u001b[0;36m<module>\u001b[0;34m()\u001b[0m\n\u001b[1;32m      1\u001b[0m \u001b[0mneuronio\u001b[0m \u001b[0;34m=\u001b[0m \u001b[0mPerceptron\u001b[0m\u001b[0;34m(\u001b[0m\u001b[0;36m2\u001b[0m\u001b[0;34m)\u001b[0m\u001b[0;34m\u001b[0m\u001b[0;34m\u001b[0m\u001b[0m\n\u001b[0;32m----> 2\u001b[0;31m \u001b[0mneuronio\u001b[0m\u001b[0;34m.\u001b[0m\u001b[0mtreinar\u001b[0m\u001b[0;34m(\u001b[0m\u001b[0mexemplos\u001b[0m\u001b[0;34m)\u001b[0m\u001b[0;34m\u001b[0m\u001b[0;34m\u001b[0m\u001b[0m\n\u001b[0m",
            "\u001b[0;32m<ipython-input-5-ca86bf51fece>\u001b[0m in \u001b[0;36mtreinar\u001b[0;34m(self, d)\u001b[0m\n\u001b[1;32m     36\u001b[0m                     \u001b[0mcontem_erro\u001b[0m \u001b[0;34m=\u001b[0m \u001b[0;32mTrue\u001b[0m\u001b[0;34m\u001b[0m\u001b[0;34m\u001b[0m\u001b[0m\n\u001b[1;32m     37\u001b[0m \u001b[0;34m\u001b[0m\u001b[0m\n\u001b[0;32m---> 38\u001b[0;31m             \u001b[0mprint\u001b[0m\u001b[0;34m(\u001b[0m\u001b[0;34m\"Total ajustes de pesos da época: \"\u001b[0m\u001b[0;34m,\u001b[0m \u001b[0mqtd_ajustes_pesos\u001b[0m\u001b[0;34m)\u001b[0m\u001b[0;34m\u001b[0m\u001b[0;34m\u001b[0m\u001b[0m\n\u001b[0m\u001b[1;32m     39\u001b[0m \u001b[0;34m\u001b[0m\u001b[0m\n\u001b[1;32m     40\u001b[0m             \u001b[0;32mif\u001b[0m \u001b[0;32mnot\u001b[0m \u001b[0mcontem_erro\u001b[0m\u001b[0;34m:\u001b[0m\u001b[0;34m\u001b[0m\u001b[0;34m\u001b[0m\u001b[0m\n",
            "\u001b[0;31mNameError\u001b[0m: name 'qtd_ajustes_pesos' is not defined"
          ]
        }
      ]
    }
  ]
}