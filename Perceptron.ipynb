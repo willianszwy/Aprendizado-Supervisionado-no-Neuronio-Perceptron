{
  "nbformat": 4,
  "nbformat_minor": 0,
  "metadata": {
    "colab": {
      "name": "Perceptron.ipynb",
      "provenance": [],
      "collapsed_sections": [],
      "include_colab_link": true
    },
    "kernelspec": {
      "name": "python3",
      "display_name": "Python 3"
    },
    "language_info": {
      "name": "python"
    }
  },
  "cells": [
    {
      "cell_type": "markdown",
      "metadata": {
        "id": "view-in-github",
        "colab_type": "text"
      },
      "source": [
        "<a href=\"https://colab.research.google.com/github/willianszwy/Aprendizado-Supervisionado-no-Neuronio-Perceptron/blob/main/Perceptron.ipynb\" target=\"_parent\"><img src=\"https://colab.research.google.com/assets/colab-badge.svg\" alt=\"Open In Colab\"/></a>"
      ]
    },
    {
      "cell_type": "code",
      "metadata": {
        "id": "tkYTvr-jgfAq"
      },
      "source": [
        "import numpy as np\n",
        "import random"
      ],
      "execution_count": null,
      "outputs": []
    },
    {
      "cell_type": "code",
      "metadata": {
        "id": "gFqLQ-_4IUst"
      },
      "source": [
        ""
      ],
      "execution_count": null,
      "outputs": []
    },
    {
      "cell_type": "markdown",
      "metadata": {
        "id": "FETr3zxsTpMn"
      },
      "source": [
        "Seed para reproducibilidade"
      ]
    },
    {
      "cell_type": "code",
      "metadata": {
        "id": "uE5k2uFlToUO"
      },
      "source": [
        "random.seed(323452345)"
      ],
      "execution_count": null,
      "outputs": []
    },
    {
      "cell_type": "code",
      "metadata": {
        "id": "hlw8MsxShRyB"
      },
      "source": [
        "\n",
        "exemplos = np.fromfile('dataAll.txt').reshape(-1,3)\n"
      ],
      "execution_count": null,
      "outputs": []
    },
    {
      "cell_type": "code",
      "metadata": {
        "id": "zRXDh9KRYGrJ"
      },
      "source": [
        "class Perceptron:\n",
        "\n",
        "    def __init__(self, tamanho, bias = 0, taxa_aprendizado= 0.1) -> None:\n",
        "        self.bias = bias\n",
        "        self.taxa_aprendizado = taxa_aprendizado\n",
        "        self.pesos = np.zeros(tamanho + 1)\n",
        "        self.pesos[0] = random.uniform(-0.5,0.5)\n",
        "        self.pesos[1] = random.uniform(-0.5,0.5)\n",
        "        self.pesos[2] = random.uniform(-0.5,0.5)\n",
        "        self.entradas = np.empty(tamanho + 1)\n",
        "        self.entradas[0] = self.bias\n",
        "        self.erro = 0\n",
        "        self.atualiza_pesos_contador = 0 \n",
        "\n",
        "\n",
        "    def treinar(self, d):\n",
        "        epoca = 0\n",
        "        continua = True\n",
        "        while continua:\n",
        "            epoca += 1\n",
        "            print(\"Época: \", epoca)\n",
        "            contem_erro = False\n",
        "            qtd_ajustes_pesos_epoca = 0\n",
        "\n",
        "            for i in range(d.shape[0]):\n",
        "\n",
        "                self.entradas[1] = d[i][0]\n",
        "                self.entradas[2] = d[i][1]\n",
        "\n",
        "                y = self.predicao()\n",
        "                self.calcula_erro(y, d[i][2])\n",
        "\n",
        "                if self.erro != 0:\n",
        "                    self.atualiza_pesos()\n",
        "                    qtd_ajustes_pesos_epoca += 1\n",
        "                    contem_erro = True      \n",
        "\n",
        "            print(\"Total ajustes de pesos da época: \", qtd_ajustes_pesos)\n",
        "\n",
        "            if not contem_erro:\n",
        "                continua = False\n",
        "        \n",
        "        print(\"Número total de ajustes dos pesos: \", self.atualiza_pesos_contador)\n",
        "        print(\"Número de Épocas: \", epoca)\n",
        "\n",
        "    def funcao_de_ativacao(self, x):\n",
        "        return 1 if x >= 0 else 0\n",
        "\n",
        "    def predicao(self):\n",
        "        y = self.pesos.T.dot(self.entradas)\n",
        "        return self.funcao_de_ativacao(y)\n",
        "\n",
        "    def calcula_erro(self,y, yd):\n",
        "        self.erro = yd - y\n",
        "\n",
        "    def delta(self):\n",
        "        return self.taxa_aprendizado * self.erro * self.entradas\n",
        "\n",
        "    def atualiza_pesos(self):\n",
        "        \n",
        "            self.pesos =  self.pesos + self.delta()\n",
        "            self.atualiza_pesos_contador += 1\n",
        "            print(\"pesos atualizados: \",self.pesos)"
      ],
      "execution_count": null,
      "outputs": []
    },
    {
      "cell_type": "code",
      "metadata": {
        "colab": {
          "base_uri": "https://localhost:8080/"
        },
        "id": "zJlPKLOkMUy7",
        "outputId": "e316997f-a88f-4758-f1a6-13635d74398c"
      },
      "source": [
        "neuronio = Perceptron(2)\n",
        "neuronio.treinar(exemplos)"
      ],
      "execution_count": null,
      "outputs": [
        {
          "output_type": "stream",
          "name": "stdout",
          "text": [
            "Época:  1\n",
            "pesos atualizados:  [ -0.23597521  36.21398462 -24.30116417]\n",
            "pesos atualizados:  [  -0.23597521  -17.44506538 -100.79691417]\n",
            "pesos atualizados:  [ -0.23597521  55.35095462 -64.96735417]\n",
            "pesos atualizados:  [ -0.23597521 137.94965462  14.88847583]\n",
            "pesos atualizados:  [ -0.23597521 143.79541462 -63.40611417]\n",
            "pesos atualizados:  [  -0.23597521  103.78650462 -141.29880417]\n",
            "pesos atualizados:  [ -0.23597521 157.45631462 -92.20653417]\n",
            "pesos atualizados:  [  -0.23597521  104.49625462 -149.07599417]\n",
            "pesos atualizados:  [ -0.23597521 164.05577462 -98.95366417]\n",
            "pesos atualizados:  [  -0.23597521  118.53114462 -164.58959417]\n",
            "pesos atualizados:  [ -0.23597521 209.24700462 -89.87627417]\n",
            "pesos atualizados:  [  -0.23597521  151.46601462 -150.18442417]\n",
            "pesos atualizados:  [  -0.23597521  103.19945462 -198.65414417]\n",
            "pesos atualizados:  [  -0.23597521  173.64680462 -156.53787417]\n",
            "pesos atualizados:  [  -0.23597521  126.80480462 -207.94774417]\n",
            "pesos atualizados:  [  -0.23597521  196.66843462 -143.72880417]\n",
            "pesos atualizados:  [  -0.23597521  140.83270462 -199.90633417]\n",
            "pesos atualizados:  [  -0.23597521  217.82017462 -135.05700417]\n",
            "pesos atualizados:  [  -0.23597521  181.55013462 -178.28504417]\n",
            "pesos atualizados:  [  -0.23597521  163.31099462 -196.61868417]\n",
            "pesos atualizados:  [-2.35975209e-01  2.38733435e+02 -1.30563574e+02]\n",
            "pesos atualizados:  [  -0.23597521  174.37430462 -212.98601417]\n",
            "pesos atualizados:  [-2.35975209e-01  2.65682515e+02 -1.29715244e+02]\n",
            "pesos atualizados:  [  -0.23597521  218.63768462 -217.61918417]\n",
            "Total ajustes de pesos da época:  24\n",
            "Época:  2\n",
            "pesos atualizados:  [-2.35975209e-01  1.70371125e+02 -2.66088904e+02]\n",
            "pesos atualizados:  [-2.35975209e-01  2.40234755e+02 -2.01869964e+02]\n",
            "pesos atualizados:  [-2.35975209e-01  1.84399025e+02 -2.58047494e+02]\n",
            "pesos atualizados:  [-2.35975209e-01  2.61386495e+02 -1.93198164e+02]\n",
            "pesos atualizados:  [-2.35975209e-01  2.25116455e+02 -2.36426204e+02]\n",
            "pesos atualizados:  [-2.35975209e-01  3.08008325e+02 -1.53644714e+02]\n",
            "pesos atualizados:  [-2.35975209e-01  2.61860945e+02 -2.10294094e+02]\n",
            "pesos atualizados:  [-2.35975209e-01  2.35235325e+02 -2.42816464e+02]\n",
            "pesos atualizados:  [-2.35975209e-01  2.82259685e+02 -1.96262294e+02]\n",
            "pesos atualizados:  [-2.35975209e-01  2.52375625e+02 -2.29371624e+02]\n",
            "pesos atualizados:  [-2.35975209e-01  2.34136485e+02 -2.47705264e+02]\n",
            "pesos atualizados:  [-2.35975209e-01  2.65443365e+02 -2.17076944e+02]\n",
            "pesos atualizados:  [-2.35975209e-01  1.89889465e+02 -2.94399894e+02]\n",
            "pesos atualizados:  [-2.35975209e-01  2.58865355e+02 -2.29608964e+02]\n",
            "pesos atualizados:  [-2.35975209e-01  1.63053805e+02 -3.27490704e+02]\n",
            "pesos atualizados:  [-2.35975209e-01  2.44227535e+02 -2.76142764e+02]\n",
            "pesos atualizados:  [-2.35975209e-01  3.43695365e+02 -1.84253204e+02]\n",
            "pesos atualizados:  [-2.35975209e-01  2.84990445e+02 -2.76590454e+02]\n",
            "pesos atualizados:  [-2.35975209e-01  2.41132315e+02 -3.21129464e+02]\n",
            "pesos atualizados:  [-2.35975209e-01  3.28375425e+02 -2.54217544e+02]\n",
            "Total ajustes de pesos da época:  20\n",
            "Época:  3\n",
            "pesos atualizados:  [-2.35975209e-01  2.96952455e+02 -2.88601294e+02]\n",
            "pesos atualizados:  [-2.35975209e-01  2.47042635e+02 -3.39861724e+02]\n",
            "pesos atualizados:  [-2.35975209e-01  2.74506225e+02 -3.19005374e+02]\n",
            "pesos atualizados:  [-2.35975209e-01  3.23967045e+02 -2.70111324e+02]\n",
            "pesos atualizados:  [-2.35975209e-01  2.95759585e+02 -3.03695444e+02]\n",
            "pesos atualizados:  [-2.35975209e-01  3.82894345e+02 -2.17005614e+02]\n",
            "pesos atualizados:  [-2.35975209e-01  3.30979015e+02 -2.73206634e+02]\n",
            "pesos atualizados:  [-2.35975209e-01  2.66092985e+02 -3.47822724e+02]\n",
            "pesos atualizados:  [-2.35975209e-01  3.55801785e+02 -2.68814004e+02]\n",
            "pesos atualizados:  [-2.35975209e-01  2.78338835e+02 -3.66801714e+02]\n",
            "pesos atualizados:  [-2.35975209e-01  3.23244175e+02 -3.23397774e+02]\n",
            "Total ajustes de pesos da época:  11\n",
            "Época:  4\n",
            "Total ajustes de pesos da época:  0\n",
            "Número total de ajustes dos pesos:  55\n",
            "Número de Épocas:  4\n"
          ]
        }
      ]
    }
  ]
}